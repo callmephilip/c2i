{
 "cells": [
  {
   "cell_type": "markdown",
   "metadata": {},
   "source": [
    "# bsky integration\n",
    "\n",
    "> Fill in a module description here"
   ]
  },
  {
   "cell_type": "code",
   "execution_count": null,
   "metadata": {},
   "outputs": [],
   "source": [
    "#| default_exp bsky"
   ]
  },
  {
   "cell_type": "code",
   "execution_count": null,
   "metadata": {},
   "outputs": [],
   "source": [
    "#| export\n",
    "\n",
    "import asyncio, typing, os\n",
    "from atproto import AsyncClient, models\n",
    "from c2i.core import generate_screenshot"
   ]
  },
  {
   "cell_type": "code",
   "execution_count": null,
   "metadata": {},
   "outputs": [],
   "source": [
    "#| hide\n",
    "\n",
    "from nbdev.showdoc import *\n",
    "\n",
    "try:\n",
    "  from dotenv import load_dotenv\n",
    "  load_dotenv()\n",
    "except: pass\n"
   ]
  },
  {
   "cell_type": "code",
   "execution_count": null,
   "metadata": {},
   "outputs": [],
   "source": [
    "#| export\n",
    "\n",
    "Notification = models.AppBskyNotificationListNotifications.Notification\n",
    "FeedPost = models.AppBskyFeedPost.Record\n",
    "ReplyRef = models.AppBskyFeedPost.ReplyRef\n",
    "\n",
    "FETCH_NOTIFICATIONS_DELAY_SEC = 5\n",
    "\n",
    "async def main(run_once = False) -> None:\n",
    "    bot_handle, password = os.getenv('BSKY_BOT_HANDLE'), os.getenv('BSKY_PASSWORD')\n",
    "\n",
    "    if not bot_handle or not password: raise ValueError('Please set BSKY_BOT_HANDLE and BSKY_PASSWORD environment variables')\n",
    "\n",
    "    # clean up bot_handle if needed\n",
    "    bot_handle = bot_handle.replace('@', '')\n",
    "\n",
    "    async_client = AsyncClient()\n",
    "    await async_client.login(bot_handle, password)\n",
    "\n",
    "    async def on_notification_callback(notification: Notification) -> None:\n",
    "        if notification.reason != \"mention\": return\n",
    "\n",
    "        assert type(notification.record) is FeedPost\n",
    "        post: FeedPost = notification.record\n",
    "\n",
    "        root_post_ref = models.create_strong_ref(notification)\n",
    "        reply_to = ReplyRef(parent=root_post_ref, root=root_post_ref)\n",
    "        \n",
    "        content = post.text.replace(f\"@{bot_handle}\", '').strip()\n",
    "        \n",
    "        with open(await generate_screenshot(code=content), 'rb') as f:\n",
    "          await async_client.send_image(text='', image=f.read(), image_alt='Code snippet', reply_to=reply_to)\n",
    "\n",
    "            \n",
    "\n",
    "    async def listen_for_notifications(\n",
    "        on_notification: typing.Callable[[Notification], typing.Coroutine[typing.Any, typing.Any, None]],\n",
    "    ) -> None:\n",
    "        print('Start listening for notifications...')\n",
    "\n",
    "        while True:      \n",
    "          # save the time in UTC when we fetch notifications\n",
    "          last_seen_at = async_client.get_current_time_iso()\n",
    "\n",
    "          # fetch new notifications\n",
    "          response = await async_client.app.bsky.notification.list_notifications()\n",
    "\n",
    "          # create a task list to run callbacks concurrently\n",
    "          on_notification_tasks = []\n",
    "          \n",
    "          for notification in response.notifications:\n",
    "              if not notification.is_read:\n",
    "                  on_notification_tasks.append(on_notification(notification))\n",
    "\n",
    "          # run callback on each notification\n",
    "          await asyncio.gather(*on_notification_tasks)\n",
    "\n",
    "          # mark notifications as processed (isRead=True)\n",
    "          await async_client.app.bsky.notification.update_seen({'seen_at': last_seen_at})\n",
    "\n",
    "          print('Successfully process notification. Last seen at:', last_seen_at)\n",
    "\n",
    "          if run_once: return\n",
    "            \n",
    "          await asyncio.sleep(FETCH_NOTIFICATIONS_DELAY_SEC)\n",
    "\n",
    "    # run our notification listener and register the callback on notification\n",
    "    await asyncio.ensure_future(listen_for_notifications(on_notification_callback))"
   ]
  },
  {
   "cell_type": "markdown",
   "metadata": {},
   "source": [
    "# Running bot on your server/computer\n",
    "\n",
    "To run the bot, make sure your env is configured (check `.env.example`) and then use `main` function"
   ]
  },
  {
   "cell_type": "code",
   "execution_count": null,
   "metadata": {},
   "outputs": [
    {
     "name": "stdout",
     "output_type": "stream",
     "text": [
      "Start listening for notifications...\n",
      "Successfully process notification. Last seen at: 2024-12-06T11:29:29.457486+00:00\n"
     ]
    }
   ],
   "source": [
    "#| eval: false\n",
    "await main(run_once=True)"
   ]
  },
  {
   "cell_type": "code",
   "execution_count": null,
   "metadata": {},
   "outputs": [],
   "source": [
    "#| hide\n",
    "import nbdev; nbdev.nbdev_export()"
   ]
  }
 ],
 "metadata": {
  "kernelspec": {
   "display_name": "python3",
   "language": "python",
   "name": "python3"
  }
 },
 "nbformat": 4,
 "nbformat_minor": 2
}
